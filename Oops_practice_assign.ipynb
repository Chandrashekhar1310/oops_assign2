{
 "cells": [
  {
   "cell_type": "markdown",
   "id": "2b613844-db06-4629-819c-7e58587f0a40",
   "metadata": {},
   "source": [
    "Q1, Create a vehicle class with an init method having instance variables as name_of_vehicle, max_speed\n",
    "and average_of_vehicle."
   ]
  },
  {
   "cell_type": "code",
   "execution_count": 11,
   "id": "6a0f953d-d06c-444c-96a5-39c4cfd4e572",
   "metadata": {},
   "outputs": [],
   "source": [
    "class vehicle:\n",
    "    def __init__(self,name_of_vehicle, max_speed , average_of_vehicle):\n",
    "        self.name_of_vehicle = name_of_vehicle\n",
    "        self.max_speed = max_speed\n",
    "        self.average_of_vehicle = average_of_vehicle\n",
    "        \n",
    "    def return_vehicle_details(self):\n",
    "        return self.name_of_vehicle,self.max_speed,self.average_of_vehicle"
   ]
  },
  {
   "cell_type": "code",
   "execution_count": 12,
   "id": "5057f5dd-6c48-4ebd-bbc5-f60f5f6d2ad0",
   "metadata": {},
   "outputs": [],
   "source": [
    "Honda = vehicle('city',400,25)"
   ]
  },
  {
   "cell_type": "code",
   "execution_count": 13,
   "id": "e47639cb-6282-44a1-9b68-85ed2e8f1493",
   "metadata": {},
   "outputs": [
    {
     "data": {
      "text/plain": [
       "25"
      ]
     },
     "execution_count": 13,
     "metadata": {},
     "output_type": "execute_result"
    }
   ],
   "source": [
    "Honda.average_of_vehicle"
   ]
  },
  {
   "cell_type": "code",
   "execution_count": 14,
   "id": "00bd2c54-07eb-4336-a9e9-56b363ffa4d8",
   "metadata": {},
   "outputs": [
    {
     "data": {
      "text/plain": [
       "('city', 400, 25)"
      ]
     },
     "execution_count": 14,
     "metadata": {},
     "output_type": "execute_result"
    }
   ],
   "source": [
    "Honda.return_vehicle_details()"
   ]
  },
  {
   "cell_type": "markdown",
   "id": "ede8120b-47ea-413a-9d0d-6e11e8da80f4",
   "metadata": {},
   "source": [
    "Q2. Create a child class car from the vehicle class created in Que 1, which will inherit the vehicle class.\n",
    "Create a method named seating_capacity which takes capacity as an argument and returns the name of\n",
    "the vehicle and its seating capacity."
   ]
  },
  {
   "cell_type": "code",
   "execution_count": 25,
   "id": "ff6001b5-89ed-44b7-88ec-fb9739fd9385",
   "metadata": {},
   "outputs": [],
   "source": [
    "class vehicle:\n",
    "    def __init__(self,name_of_vehicle, max_speed , average_of_vehicle):\n",
    "        self.name_of_vehicle = name_of_vehicle\n",
    "        self.max_speed = max_speed\n",
    "        self.average_of_vehicle = average_of_vehicle\n",
    "        \n",
    "    def return_vehicle_details(self):\n",
    "        return self.name_of_vehicle,self.max_speed,self.average_of_vehicle\n",
    "\n",
    "\n",
    "\n",
    "\n",
    "\n",
    "class Car(vehicle):\n",
    "    def __init__(self, name_of_vehicle, max_speed, average_of_vehicle):\n",
    "        super().__init__(name_of_vehicle, max_speed, average_of_vehicle)\n",
    "\n",
    "    def seating_capacity(self, capacity):\n",
    "        return f\"{self.name_of_vehicle} has a seating capacity of {capacity} passengers.\"\n"
   ]
  },
  {
   "cell_type": "code",
   "execution_count": 27,
   "id": "6bf849a0-b8ed-4a37-9b4a-86d6e2c961ab",
   "metadata": {},
   "outputs": [
    {
     "name": "stdout",
     "output_type": "stream",
     "text": [
      "Toyota Camry has a seating capacity of 5 passengers.\n"
     ]
    }
   ],
   "source": [
    "car = Car('Toyota Camry', 120, 25)\n",
    "print(car.seating_capacity(5))   # Output: Toyota Camry has a seating capacity of 5 passengers.\n"
   ]
  },
  {
   "cell_type": "markdown",
   "id": "ce1e4028-24af-4765-8650-77a4554e96c1",
   "metadata": {},
   "source": [
    "Q3. What is multiple inheritance? Write a python code to demonstrate multiple inheritance."
   ]
  },
  {
   "cell_type": "markdown",
   "id": "5dc05a59-2ab7-426a-9e2e-947fbe0eeddb",
   "metadata": {},
   "source": [
    "Multiple inheritance is a feature of object-oriented programming in which a subclass can inherit from multiple parent classes. This allows the subclass to inherit attributes and methods from multiple sources, which can be useful in certain situations."
   ]
  },
  {
   "cell_type": "code",
   "execution_count": 1,
   "id": "6325f635-8061-4652-a391-d3540ce0971a",
   "metadata": {},
   "outputs": [
    {
     "name": "stdout",
     "output_type": "stream",
     "text": [
      "A blue rectangle with an area of 50.\n"
     ]
    }
   ],
   "source": [
    "class Shape:\n",
    "    def __init__(self, color):\n",
    "        self.color = color\n",
    "\n",
    "    def get_color(self):\n",
    "        return self.color\n",
    "\n",
    "class Rectangle:\n",
    "    def __init__(self, length, width):\n",
    "        self.length = length\n",
    "        self.width = width\n",
    "\n",
    "    def get_area(self):\n",
    "        return self.length * self.width\n",
    "\n",
    "class ColoredRectangle(Shape, Rectangle):\n",
    "    def __init__(self, color, length, width):\n",
    "        Shape.__init__(self, color)\n",
    "        Rectangle.__init__(self, length, width)\n",
    "\n",
    "    def get_info(self):\n",
    "        return f\"A {self.get_color()} rectangle with an area of {self.get_area()}.\"\n",
    "\n",
    "colored_rect = ColoredRectangle('blue', 5, 10)\n",
    "print(colored_rect.get_info())    # Output: A blue rectangle with an area of 50.\n"
   ]
  },
  {
   "cell_type": "markdown",
   "id": "163175b6-5c22-48b5-a466-02a6d4c5179a",
   "metadata": {},
   "source": [
    "Q4. What are getter and setter in python? Create a class and create a getter and a setter method in this\n",
    "class."
   ]
  },
  {
   "cell_type": "markdown",
   "id": "d1d34f7e-fa8a-4500-acb0-c3b972a3266c",
   "metadata": {},
   "source": [
    "Getter and Setter methods are used in object-oriented programming to access and manipulate the private attributes of a class. In Python, the properties of an object can be accessed and modified directly using dot notation. However, sometimes it may be desirable to add additional logic to the process of accessing or modifying an attribute, and this is where getter and setter methods come in handy.\n",
    "\n",
    "A getter method is a method that is used to retrieve the value of a private attribute. A setter method is a method that is used to set the value of a private attribute. Getter and setter methods provide a layer of abstraction between the object and the user, making it easier to manage the object's properties."
   ]
  },
  {
   "cell_type": "code",
   "execution_count": 24,
   "id": "8aaab5f5-e043-4875-b5a4-516865ff4283",
   "metadata": {},
   "outputs": [],
   "source": [
    "class person:\n",
    "    def  __init__(self,name,age):\n",
    "        self.__name = name\n",
    "        self.__age = age\n",
    "        \n",
    "    def get_name(self):\n",
    "        return self.__name\n",
    "    \n",
    "    def set_name(self,name):\n",
    "        self.__name = name\n",
    "    \n",
    "    def get_age(self):\n",
    "        return self.__age\n",
    "    \n",
    "    def set_age(self,age):\n",
    "        self.__age = age\n",
    "        \n",
    "        \n",
    "        "
   ]
  },
  {
   "cell_type": "markdown",
   "id": "025e6218-382b-43f6-af71-f4aac96beb3e",
   "metadata": {},
   "source": [
    "we have defined a Person class with two private attributes, name and age. We have defined getter and setter methods for each attribute. The getter methods return the value of the attribute, while the setter methods set the value of the attribute."
   ]
  },
  {
   "cell_type": "code",
   "execution_count": 25,
   "id": "50b085c8-c1a8-41db-b471-d175b2139f29",
   "metadata": {},
   "outputs": [],
   "source": [
    "person = person('shekhar',22)"
   ]
  },
  {
   "cell_type": "code",
   "execution_count": 26,
   "id": "d182c107-e148-47ad-b770-a483e147b792",
   "metadata": {},
   "outputs": [
    {
     "name": "stdout",
     "output_type": "stream",
     "text": [
      "shekhar\n",
      "22\n"
     ]
    }
   ],
   "source": [
    "## using the getter methods to retrieve values\n",
    "print(person.get_name())\n",
    "print(person.get_age())"
   ]
  },
  {
   "cell_type": "code",
   "execution_count": 27,
   "id": "e2e3c86f-d479-4ffc-85be-2cdc3a79e808",
   "metadata": {},
   "outputs": [],
   "source": [
    "# using the setter methods to retrive values\n",
    "person.set_name(\"Sam\")\n",
    "person.set_age(21)"
   ]
  },
  {
   "cell_type": "code",
   "execution_count": 28,
   "id": "0feda416-c647-4cde-880c-103769b4f7c0",
   "metadata": {},
   "outputs": [
    {
     "name": "stdout",
     "output_type": "stream",
     "text": [
      "Sam\n",
      "21\n"
     ]
    }
   ],
   "source": [
    "# using the getter methods to retrieve modified values\n",
    "print(person.get_name())\n",
    "print(person.get_age())"
   ]
  },
  {
   "cell_type": "markdown",
   "id": "8c457fbe-f4ee-43d8-aa0f-0c64ef773cd8",
   "metadata": {},
   "source": [
    "Q5.What is method overriding in python? Write a python code to demonstrate method overriding."
   ]
  },
  {
   "cell_type": "markdown",
   "id": "cdbabb3c-a682-4dba-87af-f767a259ca58",
   "metadata": {},
   "source": [
    "Method overriding is a feature of object-oriented programming that allows a subclass to provide a different implementation of a method that is already defined in its superclass. In Python, method overriding is achieved by defining a method with the same name in the subclass as the one in the superclass.\n",
    "\n",
    "When a method is called on an object of a subclass, the method defined in the subclass is called instead of the one in the superclass. This allows the subclass to provide a more specialized or customized implementation of the method."
   ]
  },
  {
   "cell_type": "code",
   "execution_count": 30,
   "id": "1b076f95-ca4d-4c3d-bc43-b61cff04e46f",
   "metadata": {},
   "outputs": [],
   "source": [
    "class Animal:\n",
    "    def make_sound(self):\n",
    "        print('animal sounds')\n",
    "        \n",
    "class dogs(Animal):\n",
    "    def make_sound(self):\n",
    "        print('The dogs barked')\n",
    "        \n",
    "class cat(Animal):\n",
    "    def make_sound(self):\n",
    "        print('The cat mewos')"
   ]
  },
  {
   "cell_type": "code",
   "execution_count": 31,
   "id": "41a86f9c-db75-4e78-9c73-93c5c5d4e281",
   "metadata": {},
   "outputs": [],
   "source": [
    "Animals = Animal()\n",
    "Dog = dogs()\n",
    "Cat = cat()"
   ]
  },
  {
   "cell_type": "code",
   "execution_count": 36,
   "id": "cfb80471-bee2-40bc-93b6-dd2108cca660",
   "metadata": {},
   "outputs": [
    {
     "name": "stdout",
     "output_type": "stream",
     "text": [
      "animal sounds\n",
      "The dogs barked\n"
     ]
    },
    {
     "ename": "TypeError",
     "evalue": "cat.make_sound() missing 1 required positional argument: 'self'",
     "output_type": "error",
     "traceback": [
      "\u001b[0;31m---------------------------------------------------------------------------\u001b[0m",
      "\u001b[0;31mTypeError\u001b[0m                                 Traceback (most recent call last)",
      "Cell \u001b[0;32mIn[36], line 3\u001b[0m\n\u001b[1;32m      1\u001b[0m Animals\u001b[38;5;241m.\u001b[39mmake_sound()\n\u001b[1;32m      2\u001b[0m Dog\u001b[38;5;241m.\u001b[39mmake_sound()\n\u001b[0;32m----> 3\u001b[0m \u001b[43mcat\u001b[49m\u001b[38;5;241;43m.\u001b[39;49m\u001b[43mmake_sound\u001b[49m\u001b[43m(\u001b[49m\u001b[43m)\u001b[49m\n",
      "\u001b[0;31mTypeError\u001b[0m: cat.make_sound() missing 1 required positional argument: 'self'"
     ]
    }
   ],
   "source": [
    "Animals.make_sound()\n",
    "Dog.make_sound()\n",
    "cat.make_sound()"
   ]
  },
  {
   "cell_type": "code",
   "execution_count": null,
   "id": "cdf9cb2c-e810-42df-9556-92ea1037ae49",
   "metadata": {},
   "outputs": [],
   "source": []
  }
 ],
 "metadata": {
  "kernelspec": {
   "display_name": "Python 3 (ipykernel)",
   "language": "python",
   "name": "python3"
  },
  "language_info": {
   "codemirror_mode": {
    "name": "ipython",
    "version": 3
   },
   "file_extension": ".py",
   "mimetype": "text/x-python",
   "name": "python",
   "nbconvert_exporter": "python",
   "pygments_lexer": "ipython3",
   "version": "3.10.8"
  }
 },
 "nbformat": 4,
 "nbformat_minor": 5
}
